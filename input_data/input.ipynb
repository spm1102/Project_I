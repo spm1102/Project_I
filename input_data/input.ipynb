{
 "cells": [
  {
   "cell_type": "code",
   "execution_count": 1,
   "metadata": {},
   "outputs": [
    {
     "name": "stdout",
     "output_type": "stream",
     "text": [
      "Downloading data from https://storage.googleapis.com/tensorflow/tf-keras-datasets/train-labels-idx1-ubyte.gz\n",
      "29515/29515 [==============================] - 0s 3us/step\n",
      "Downloading data from https://storage.googleapis.com/tensorflow/tf-keras-datasets/train-images-idx3-ubyte.gz\n",
      "26421880/26421880 [==============================] - 4s 0us/step\n",
      "Downloading data from https://storage.googleapis.com/tensorflow/tf-keras-datasets/t10k-labels-idx1-ubyte.gz\n",
      "5148/5148 [==============================] - 0s 0s/step\n",
      "Downloading data from https://storage.googleapis.com/tensorflow/tf-keras-datasets/t10k-images-idx3-ubyte.gz\n",
      "4422102/4422102 [==============================] - 1s 0us/step\n",
      "Số lượng ảnh train: 60000, Kích thước ảnh: 28x28\n",
      "Số lượng ảnh test: 10000\n"
     ]
    }
   ],
   "source": [
    "import tensorflow as tf\n",
    "\n",
    "# Tải dữ liệu Fashion-MNIST\n",
    "(x_train, y_train), (x_test, y_test) = tf.keras.datasets.fashion_mnist.load_data()\n",
    "\n",
    "print(f\"Số lượng ảnh train: {x_train.shape[0]}, Kích thước ảnh: {x_train.shape[1]}x{x_train.shape[2]}\")\n",
    "print(f\"Số lượng ảnh test: {x_test.shape[0]}\")\n"
   ]
  },
  {
   "cell_type": "code",
   "execution_count": 1,
   "metadata": {},
   "outputs": [
    {
     "name": "stdout",
     "output_type": "stream",
     "text": [
      "Saved input image at 'fashion_mnist_txt.txt' with label: 9\n"
     ]
    }
   ],
   "source": [
    "import torch\n",
    "import torchvision.transforms as transforms\n",
    "from torchvision.datasets import FashionMNIST\n",
    "import numpy as np\n",
    "\n",
    "# Định nghĩa transform giống lúc train\n",
    "transform = transforms.Compose([\n",
    "    transforms.Resize((224, 224)),   # Resize về 224x224\n",
    "    transforms.ToTensor(),           # Chuyển thành tensor (0,1)\n",
    "    transforms.Normalize(mean=[0.5], std=[0.5])  # Chuẩn hóa về (-1,1)\n",
    "])\n",
    "\n",
    "# Tải tập Fashion-MNIST\n",
    "dataset = FashionMNIST(root=\"./data\", train=False, download=True, transform=transform)\n",
    "\n",
    "# Chọn một ảnh để lưu\n",
    "index = 0  # Chọn ảnh đầu tiên\n",
    "image, label = dataset[index]  # image có shape (1, 224, 224)\n",
    "\n",
    "# Chuyển thành numpy array\n",
    "image_numpy = image.numpy().astype(np.float32)\n",
    "\n",
    "# Lưu xuống file .txt\n",
    "np.savetxt(\"input_image.txt\", image_numpy.flatten(), fmt = \"%.6f\",delimiter=\",\")\n",
    "print(f\"Saved input image at 'fashion_mnist_txt.txt' with label: {label}\")\n"
   ]
  }
 ],
 "metadata": {
  "kernelspec": {
   "display_name": "tf-gpu",
   "language": "python",
   "name": "python3"
  },
  "language_info": {
   "codemirror_mode": {
    "name": "ipython",
    "version": 3
   },
   "file_extension": ".py",
   "mimetype": "text/x-python",
   "name": "python",
   "nbconvert_exporter": "python",
   "pygments_lexer": "ipython3",
   "version": "3.12.3"
  }
 },
 "nbformat": 4,
 "nbformat_minor": 2
}
